{
 "cells": [
  {
   "cell_type": "markdown",
   "metadata": {
    "id": "15XCoYr0awZ6"
   },
   "source": [
    "#Домашнє завдання до теми \"Цикл while\""
   ]
  },
  {
   "cell_type": "markdown",
   "metadata": {
    "id": "xgCDxF5YhQSa"
   },
   "source": [
    "1. **Лічильник до заданого числа.**\n",
    "   Завдання:\n",
    "     - Створіть цикл `while`, щоб він лічив від 1 до заданого числа в змінній `limit` (включно).\n",
    "     - Виведіть кожне число, яке проходить лічильник, на екран.\n",
    "     - В кінці виведіть повідомлення \"Кінець розрахунку!\".\n"
   ]
  },
  {
   "cell_type": "code",
   "execution_count": 10,
   "metadata": {
    "execution": {
     "iopub.execute_input": "2025-06-15T19:45:34.615059Z",
     "iopub.status.busy": "2025-06-15T19:45:34.615059Z",
     "iopub.status.idle": "2025-06-15T19:45:34.624572Z",
     "shell.execute_reply": "2025-06-15T19:45:34.623521Z",
     "shell.execute_reply.started": "2025-06-15T19:45:34.615059Z"
    },
    "id": "wwSqYFCmiJTt"
   },
   "outputs": [
    {
     "name": "stdout",
     "output_type": "stream",
     "text": [
      "1\n",
      "2\n",
      "3\n",
      "4\n",
      "5\n",
      "6\n",
      "7\n",
      "8\n",
      "9\n",
      "Кінець розрахунку!\n"
     ]
    }
   ],
   "source": [
    "limit = 9  # Задане число\n",
    "counter = 1\n",
    "while counter <= limit:\n",
    "    print(counter)\n",
    "    counter += 1\n",
    "print(\"Кінець розрахунку!\")    "
   ]
  },
  {
   "cell_type": "code",
   "execution_count": 11,
   "metadata": {
    "colab": {
     "base_uri": "https://localhost:8080/"
    },
    "execution": {
     "iopub.execute_input": "2025-06-15T19:45:39.071231Z",
     "iopub.status.busy": "2025-06-15T19:45:39.071231Z",
     "iopub.status.idle": "2025-06-15T19:45:39.085166Z",
     "shell.execute_reply": "2025-06-15T19:45:39.085166Z",
     "shell.execute_reply.started": "2025-06-15T19:45:39.071231Z"
    },
    "id": "4IcibOYqj3pn",
    "outputId": "a81fa5b4-4d68-444e-cc4e-eba8e5bb2c86"
   },
   "outputs": [
    {
     "data": {
      "text/plain": [
       "int"
      ]
     },
     "execution_count": 11,
     "metadata": {},
     "output_type": "execute_result"
    }
   ],
   "source": [
    "name = 5\n",
    "type(name)"
   ]
  },
  {
   "cell_type": "code",
   "execution_count": 12,
   "metadata": {
    "colab": {
     "base_uri": "https://localhost:8080/"
    },
    "execution": {
     "iopub.execute_input": "2025-06-15T19:45:39.639495Z",
     "iopub.status.busy": "2025-06-15T19:45:39.639495Z",
     "iopub.status.idle": "2025-06-15T19:45:39.653114Z",
     "shell.execute_reply": "2025-06-15T19:45:39.651522Z",
     "shell.execute_reply.started": "2025-06-15T19:45:39.639495Z"
    },
    "id": "gYUEGyzeAEWy",
    "outputId": "05247e49-1d00-449e-ee76-e30f534a5af8"
   },
   "outputs": [
    {
     "data": {
      "text/plain": [
       "17"
      ]
     },
     "execution_count": 12,
     "metadata": {},
     "output_type": "execute_result"
    }
   ],
   "source": [
    "name + 12"
   ]
  },
  {
   "cell_type": "code",
   "execution_count": 13,
   "metadata": {
    "colab": {
     "base_uri": "https://localhost:8080/"
    },
    "execution": {
     "iopub.execute_input": "2025-06-15T19:45:40.413172Z",
     "iopub.status.busy": "2025-06-15T19:45:40.413172Z",
     "iopub.status.idle": "2025-06-15T19:45:40.423458Z",
     "shell.execute_reply": "2025-06-15T19:45:40.422750Z",
     "shell.execute_reply.started": "2025-06-15T19:45:40.413172Z"
    },
    "id": "0k2ITbTpAQft",
    "outputId": "c3e634d3-ec0d-4f2f-e90d-c64eb54b4e74"
   },
   "outputs": [
    {
     "name": "stdout",
     "output_type": "stream",
     "text": [
      "Yabluczka! 17\n"
     ]
    }
   ],
   "source": [
    "print(\"Yabluczka!\",name+12)"
   ]
  },
  {
   "cell_type": "markdown",
   "metadata": {
    "id": "DlqunQnphZ9s"
   },
   "source": [
    "2. **Пошук першого парного числа.** Завдання:\n",
    "     - Створіть цикл `while`, щоб знайти перше парне число після заданого числа `start`.\n",
    "     - Знайдіть та виведіть перше парне число.\n"
   ]
  },
  {
   "cell_type": "code",
   "execution_count": 14,
   "metadata": {
    "execution": {
     "iopub.execute_input": "2025-06-15T19:46:19.558376Z",
     "iopub.status.busy": "2025-06-15T19:46:19.554976Z",
     "iopub.status.idle": "2025-06-15T19:46:19.564834Z",
     "shell.execute_reply": "2025-06-15T19:46:19.564834Z",
     "shell.execute_reply.started": "2025-06-15T19:46:19.558376Z"
    },
    "id": "3CC3-gNJiW6X"
   },
   "outputs": [],
   "source": [
    "start = 7  # Задане число"
   ]
  },
  {
   "cell_type": "code",
   "execution_count": 16,
   "metadata": {
    "execution": {
     "iopub.execute_input": "2025-06-15T20:09:41.008429Z",
     "iopub.status.busy": "2025-06-15T20:09:41.008429Z",
     "iopub.status.idle": "2025-06-15T20:09:41.017103Z",
     "shell.execute_reply": "2025-06-15T20:09:41.017103Z",
     "shell.execute_reply.started": "2025-06-15T20:09:41.008429Z"
    },
    "id": "5M8Ly9_Lj4-t"
   },
   "outputs": [
    {
     "name": "stdout",
     "output_type": "stream",
     "text": [
      "the first even number after 7 this 8\n"
     ]
    }
   ],
   "source": [
    "number = start + 1\n",
    "while number % 2 != 0:\n",
    "    number += 1\n",
    "print(\"the first even number after\", start, \"this\", number)"
   ]
  },
  {
   "cell_type": "markdown",
   "metadata": {
    "id": "OlhKezZYiQJ2"
   },
   "source": [
    "\n",
    "3. **Обчислення факторіалу.**   \n",
    "  Факторіал числа - це добуток всіх натуральних чисел від 1 до цього числа включно. Наприклад, факторіал числа 5 (позначається як 5!) дорівнює `1 * 2 * 3 * 4 * 5 = 120`.\n",
    "\n",
    "  Завдання:  \n",
    "      - Обчисліть факторіал заданого числа, використовуючи цикл `while`.  \n",
    "      - Задайте деяке число для обчислення факторіалу у змінній `num`.  \n",
    "      - Виведіть обчислений факторіал на екран.  \n"
   ]
  },
  {
   "cell_type": "code",
   "execution_count": 23,
   "metadata": {
    "execution": {
     "iopub.execute_input": "2025-06-15T20:25:09.773760Z",
     "iopub.status.busy": "2025-06-15T20:25:09.773760Z",
     "iopub.status.idle": "2025-06-15T20:25:09.786244Z",
     "shell.execute_reply": "2025-06-15T20:25:09.784598Z",
     "shell.execute_reply.started": "2025-06-15T20:25:09.773760Z"
    }
   },
   "outputs": [
    {
     "name": "stdout",
     "output_type": "stream",
     "text": [
      "Факторіал числа 7 дорівнює: 5040\n"
     ]
    }
   ],
   "source": [
    "num = 7        \n",
    "factorial = 1\n",
    "i = 1 \n",
    "while i <= num:\n",
    "    factorial = factorial * i\n",
    "    i = i + 1\n",
    "print(\"Факторіал числа\", num, \"дорівнює:\", factorial)"
   ]
  },
  {
   "cell_type": "code",
   "execution_count": 24,
   "metadata": {
    "execution": {
     "iopub.execute_input": "2025-06-15T20:25:11.285913Z",
     "iopub.status.busy": "2025-06-15T20:25:11.285913Z",
     "iopub.status.idle": "2025-06-15T20:25:11.298319Z",
     "shell.execute_reply": "2025-06-15T20:25:11.296542Z",
     "shell.execute_reply.started": "2025-06-15T20:25:11.285913Z"
    }
   },
   "outputs": [
    {
     "name": "stdout",
     "output_type": "stream",
     "text": [
      "Факторіал числа 6 дорівнює: 720\n"
     ]
    }
   ],
   "source": [
    "num = 6        \n",
    "factorial = 1\n",
    "i = 1 \n",
    "while i <= num:\n",
    "    factorial = factorial * i\n",
    "    i = i + 1\n",
    "print(\"Факторіал числа\", num, \"дорівнює:\", factorial)"
   ]
  },
  {
   "cell_type": "code",
   "execution_count": 25,
   "metadata": {
    "execution": {
     "iopub.execute_input": "2025-06-15T20:25:24.733326Z",
     "iopub.status.busy": "2025-06-15T20:25:24.733326Z",
     "iopub.status.idle": "2025-06-15T20:25:24.743505Z",
     "shell.execute_reply": "2025-06-15T20:25:24.741861Z",
     "shell.execute_reply.started": "2025-06-15T20:25:24.733326Z"
    }
   },
   "outputs": [],
   "source": [
    "import math"
   ]
  },
  {
   "cell_type": "code",
   "execution_count": 26,
   "metadata": {
    "execution": {
     "iopub.execute_input": "2025-06-15T20:25:44.091177Z",
     "iopub.status.busy": "2025-06-15T20:25:44.091177Z",
     "iopub.status.idle": "2025-06-15T20:25:44.105129Z",
     "shell.execute_reply": "2025-06-15T20:25:44.103049Z",
     "shell.execute_reply.started": "2025-06-15T20:25:44.091177Z"
    }
   },
   "outputs": [
    {
     "data": {
      "text/plain": [
       "5040"
      ]
     },
     "execution_count": 26,
     "metadata": {},
     "output_type": "execute_result"
    }
   ],
   "source": [
    "math.factorial (7)"
   ]
  },
  {
   "cell_type": "code",
   "execution_count": null,
   "metadata": {},
   "outputs": [],
   "source": []
  }
 ],
 "metadata": {
  "colab": {
   "provenance": []
  },
  "kernelspec": {
   "display_name": "Python [conda env:base] *",
   "language": "python",
   "name": "conda-base-py"
  },
  "language_info": {
   "codemirror_mode": {
    "name": "ipython",
    "version": 3
   },
   "file_extension": ".py",
   "mimetype": "text/x-python",
   "name": "python",
   "nbconvert_exporter": "python",
   "pygments_lexer": "ipython3",
   "version": "3.12.7"
  }
 },
 "nbformat": 4,
 "nbformat_minor": 4
}
