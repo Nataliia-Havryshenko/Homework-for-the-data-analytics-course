{
 "cells": [
  {
   "cell_type": "markdown",
   "id": "1561554f",
   "metadata": {
    "id": "1561554f"
   },
   "source": [
    "# Домашнє завдання до теми \"Модулі. Винятки (Exceptions)\"\n",
    "\n"
   ]
  },
  {
   "cell_type": "markdown",
   "id": "c094769a",
   "metadata": {
    "ExecuteTime": {
     "end_time": "2022-10-22T04:15:21.939494Z",
     "start_time": "2022-10-22T04:15:21.933981Z"
    },
    "id": "c094769a"
   },
   "source": [
    "Почнемо з закріплення матеріалу щодо фукнцій і віпрацювання роботи з модулем `random`.\n",
    "\n",
    "1. Напишіть функцію `get_random_int_list`, яка приймає один аргумент - кількість чисел `n`, і повертає список, що містить `n` випадкових цілих чисел з діапазону від 0 до 100 включно. Для генерації випадкових чисел використовуйте модуль `random`.\n",
    "\n",
    "  **Вимоги до реалізації:**\n",
    "\n",
    "  - Функція повинна приймати один аргумент `n` - кількість чисел у списку.\n",
    "  - Для генерації випадкових чисел використовуйте функцію `random.randint(0, 100)`.\n",
    "  - Повернутий список має містити рівно `n` випадкових чисел.\n",
    "\n",
    "  **Приклади виклику функції та очікувані результати:**\n",
    "\n",
    "  1. **Приклад 1:**\n",
    "    - Виклик функції: `get_random_int_list(5)`\n",
    "    - Очікуваний результат: Список з 5 випадковими числами, наприклад, `[23, 77, 45, 8, 91]`. Кожен запуск може повертати різні числа через випадковість.\n",
    "\n",
    "  2. **Приклад 2:**\n",
    "    - Виклик функції: `get_random_int_list(3)`\n",
    "    - Очікуваний результат: Список з 3 випадковими числами, наприклад, `[64, 20, 37]`.\n",
    "\n",
    "  3. **Приклад 3:**\n",
    "    - Виклик функції: `get_random_int_list(0)`\n",
    "    - Очікуваний результат: Порожній список `[]`, оскільки було запитано 0 чисел.\n",
    "\n",
    "Продемонструйте результати робити функції запустивши код нижче."
   ]
  },
  {
   "cell_type": "code",
   "execution_count": 9,
   "id": "m5hUhAQaqP78",
   "metadata": {
    "execution": {
     "iopub.execute_input": "2025-06-22T16:42:22.384255Z",
     "iopub.status.busy": "2025-06-22T16:42:22.384255Z",
     "iopub.status.idle": "2025-06-22T16:42:22.399708Z",
     "shell.execute_reply": "2025-06-22T16:42:22.398550Z",
     "shell.execute_reply.started": "2025-06-22T16:42:22.384255Z"
    },
    "id": "m5hUhAQaqP78"
   },
   "outputs": [],
   "source": [
    "import random\n",
    "\n",
    "def get_random_int_list(n):\n",
    "    result = [n]\n",
    "    for _ in range(n):\n",
    "        number = random.randint(0, 100)\n",
    "        result.append(number)\n",
    "    return result"
   ]
  },
  {
   "cell_type": "code",
   "execution_count": 10,
   "id": "XV-QkjcbqZNv",
   "metadata": {
    "execution": {
     "iopub.execute_input": "2025-06-22T16:42:23.574524Z",
     "iopub.status.busy": "2025-06-22T16:42:23.574524Z",
     "iopub.status.idle": "2025-06-22T16:42:23.589626Z",
     "shell.execute_reply": "2025-06-22T16:42:23.588288Z",
     "shell.execute_reply.started": "2025-06-22T16:42:23.574524Z"
    },
    "id": "XV-QkjcbqZNv"
   },
   "outputs": [
    {
     "name": "stdout",
     "output_type": "stream",
     "text": [
      "[5, 81, 61, 85, 6, 16]\n",
      "[3, 33, 56, 49]\n",
      "[0]\n",
      "[8, 92, 66, 48, 30, 18, 10, 37, 18]\n"
     ]
    }
   ],
   "source": [
    "for number in [5, 3, 0, 8]:\n",
    "  print(get_random_int_list(number))"
   ]
  },
  {
   "cell_type": "markdown",
   "id": "iBHEcmV7R34X",
   "metadata": {
    "id": "iBHEcmV7R34X"
   },
   "source": [
    "2. **Конвертер рядка в число**\n",
    "\n",
    "  **Опис завдання:**\n",
    "\n",
    "  Створіть функцію `string_to_int`, яка приймає рядок і намагається перетворити його в ціле число. Якщо рядок не можна перетворити на ціле число, функція повинна обробити виключення про неправильне значення, вивести на екран `\"Некоректне введення\"` і повернути `None`.\n",
    "\n",
    "  **Приклади виклику функції:**\n",
    "\n",
    "  - `string_to_int(\"123\")` повинно повернути `123`.\n",
    "  - `string_to_int(\"abc\")` повинно вивести повідомлення `\"Некоректне введення\"` і повернути `None`."
   ]
  },
  {
   "cell_type": "code",
   "execution_count": 18,
   "id": "5UT2YNrISdLR",
   "metadata": {
    "execution": {
     "iopub.execute_input": "2025-06-22T16:57:57.629447Z",
     "iopub.status.busy": "2025-06-22T16:57:57.629447Z",
     "iopub.status.idle": "2025-06-22T16:57:57.637812Z",
     "shell.execute_reply": "2025-06-22T16:57:57.636284Z",
     "shell.execute_reply.started": "2025-06-22T16:57:57.629447Z"
    },
    "id": "5UT2YNrISdLR"
   },
   "outputs": [],
   "source": [
    "def string_to_int(n):\n",
    "    try:\n",
    "        return int(n)\n",
    "    except ValueError:\n",
    "        print(\"Некоректне введення\")\n",
    "        return"
   ]
  },
  {
   "cell_type": "markdown",
   "id": "UbIaPiOHSgE7",
   "metadata": {
    "id": "UbIaPiOHSgE7"
   },
   "source": [
    "Продемонструйте результати робити функції запустивши код нижче."
   ]
  },
  {
   "cell_type": "code",
   "execution_count": 16,
   "id": "AL7sINtwSgcs",
   "metadata": {
    "execution": {
     "iopub.execute_input": "2025-06-22T16:52:35.277382Z",
     "iopub.status.busy": "2025-06-22T16:52:35.277382Z",
     "iopub.status.idle": "2025-06-22T16:52:35.290990Z",
     "shell.execute_reply": "2025-06-22T16:52:35.289377Z",
     "shell.execute_reply.started": "2025-06-22T16:52:35.277382Z"
    },
    "id": "AL7sINtwSgcs"
   },
   "outputs": [
    {
     "name": "stdout",
     "output_type": "stream",
     "text": [
      "Некоректне введення\n",
      "Некоректне введення\n"
     ]
    },
    {
     "data": {
      "text/plain": [
       "{'123': 123, 'abc': None, '456.78': None, '100': 100}"
      ]
     },
     "execution_count": 16,
     "metadata": {},
     "output_type": "execute_result"
    }
   ],
   "source": [
    "test_inputs = [\"123\", \"abc\", \"456.78\", \"100\"]\n",
    "results = {input_value: string_to_int(input_value) for input_value in test_inputs}\n",
    "results\n"
   ]
  },
  {
   "cell_type": "markdown",
   "id": "KkzLp29pQ1-U",
   "metadata": {
    "id": "KkzLp29pQ1-U"
   },
   "source": [
    "3. **Контроль введення користувача**\n",
    "\n",
    "  Створіть функцію `check_age`, яка приймає на вхід вік користувача у форматі рядок і перевіряє, чи є користувач повнолітнім (18 років і старше). Якщо введене значення не може бути перетворено на ціле число, функція повинна обробити виняток, вивести на екран `\"Некоректне введення. Будь ласка, введіть числове значення.\"` і повернути `False`. Якщо вік користувача менше 18, вивести повідомлення `\"Ви не повнолітній!\"` і також повернути `False`. У випадку, коли вік 18 років або більше, вивести повідомлення `\"Ви повнолітній.\"` і повернути `True`.\n",
    "\n",
    "  **Приклад роботи програми:**\n",
    "\n",
    "  1. Користувач вводить `\"двадцять\"`: програма виводить на екрнан `\"Некоректне введення. Будь ласка, введіть числове значення.\"` і повертає `False`.\n",
    "  2. Користувач вводить `\"17\"`: програма виводить `\"Ви не повнолітній!\"` і повертає `False`.\n",
    "  3. Користувач вводить `\"18\"`: програма виводить `\"Ви повнолітній.\"` і повертає `True`.\n"
   ]
  },
  {
   "cell_type": "code",
   "execution_count": 26,
   "id": "K3PTENm-Ae3-",
   "metadata": {
    "execution": {
     "iopub.execute_input": "2025-06-22T17:17:33.351048Z",
     "iopub.status.busy": "2025-06-22T17:17:33.342953Z",
     "iopub.status.idle": "2025-06-22T17:17:33.360664Z",
     "shell.execute_reply": "2025-06-22T17:17:33.359340Z",
     "shell.execute_reply.started": "2025-06-22T17:17:33.351048Z"
    },
    "id": "K3PTENm-Ae3-"
   },
   "outputs": [],
   "source": [
    "def check_age(n):\n",
    "    try:\n",
    "        age = int(n)\n",
    "    except ValueError:       \n",
    "        print(\"Некоректне введення. Будь ласка, введіть числове значення.\")\n",
    "        return False\n",
    "    if age < 18:\n",
    "        print(\"Ви не повнолітній!\")\n",
    "        return False\n",
    "    else:\n",
    "        print(\"Ви повнолітній.\")\n",
    "        return True"
   ]
  },
  {
   "cell_type": "markdown",
   "id": "huphMh7YR2GJ",
   "metadata": {
    "id": "huphMh7YR2GJ"
   },
   "source": [
    "Продемонструйте результати робити функції запустивши код нижче."
   ]
  },
  {
   "cell_type": "code",
   "execution_count": 27,
   "id": "YuEQrntVRgSE",
   "metadata": {
    "execution": {
     "iopub.execute_input": "2025-06-22T17:17:34.645814Z",
     "iopub.status.busy": "2025-06-22T17:17:34.645814Z",
     "iopub.status.idle": "2025-06-22T17:17:34.661228Z",
     "shell.execute_reply": "2025-06-22T17:17:34.659647Z",
     "shell.execute_reply.started": "2025-06-22T17:17:34.645814Z"
    },
    "id": "YuEQrntVRgSE"
   },
   "outputs": [
    {
     "name": "stdout",
     "output_type": "stream",
     "text": [
      "Некоректне введення. Будь ласка, введіть числове значення.\n",
      "Ви не повнолітній!\n",
      "Ви повнолітній.\n"
     ]
    },
    {
     "data": {
      "text/plain": [
       "[False, False, True]"
      ]
     },
     "execution_count": 27,
     "metadata": {},
     "output_type": "execute_result"
    }
   ],
   "source": [
    "test_inputs = [\"двадцять\", \"17\", \"18\"]\n",
    "results = [check_age(input_value) for input_value in test_inputs]\n",
    "results"
   ]
  },
  {
   "cell_type": "markdown",
   "id": "CQg-zIJGTqjw",
   "metadata": {
    "id": "CQg-zIJGTqjw"
   },
   "source": [
    "4. **Обчислення середнього з перевіркою:** Напишіть функцію `calculate_average`, яка приймає на вхід список чисел і обчислює середнє арифметичне значення цих чисел. Функція повинна перевіряти, що всі елементи списку є числами. Якщо серед елементів списку зустрічається елемент, який не є числом, функція повинна вивести повідомлення `\"Всі елементи повинні бути числами\"` і повернути `None`.\n",
    "\n",
    "  **Приклади виклику функції:**\n",
    "\n",
    "  - `calculate_average([1, 2, 3, 4, 5])` повинно повернути `3.0`.\n",
    "  - `calculate_average([1, \"2\", 3])` повинно вивести `\"Всі елементи повинні бути числами\"` і повернути `None`.\n",
    "  - `calculate_average([-1.1, \"ф\", 4])` повинно вивести `\"Всі елементи повинні бути числами\"` і повернути `None`."
   ]
  },
  {
   "cell_type": "code",
   "execution_count": 31,
   "id": "91VU_y5sUAKB",
   "metadata": {
    "execution": {
     "iopub.execute_input": "2025-06-22T17:25:29.864571Z",
     "iopub.status.busy": "2025-06-22T17:25:29.864571Z",
     "iopub.status.idle": "2025-06-22T17:25:29.877591Z",
     "shell.execute_reply": "2025-06-22T17:25:29.875936Z",
     "shell.execute_reply.started": "2025-06-22T17:25:29.864571Z"
    },
    "id": "91VU_y5sUAKB"
   },
   "outputs": [],
   "source": [
    "def calculate_average(numbers):\n",
    "    for num in numbers:\n",
    "        if not isinstance(num, (int, float)):\n",
    "            print(\"Всі елементи повинні бути числами\")\n",
    "            return None\n",
    "    return sum(numbers) / len(numbers) if numbers else None"
   ]
  },
  {
   "cell_type": "markdown",
   "id": "ib-JWKKmUeF8",
   "metadata": {
    "id": "ib-JWKKmUeF8"
   },
   "source": [
    "Продемонструйте результати робити функції запустивши код нижче."
   ]
  },
  {
   "cell_type": "code",
   "execution_count": 32,
   "id": "axEmZx0rUNqT",
   "metadata": {
    "execution": {
     "iopub.execute_input": "2025-06-22T17:25:35.599175Z",
     "iopub.status.busy": "2025-06-22T17:25:35.599175Z",
     "iopub.status.idle": "2025-06-22T17:25:35.620778Z",
     "shell.execute_reply": "2025-06-22T17:25:35.619162Z",
     "shell.execute_reply.started": "2025-06-22T17:25:35.599175Z"
    },
    "id": "axEmZx0rUNqT"
   },
   "outputs": [
    {
     "name": "stdout",
     "output_type": "stream",
     "text": [
      "Всі елементи повинні бути числами\n",
      "Всі елементи повинні бути числами\n"
     ]
    },
    {
     "data": {
      "text/plain": [
       "[3.0, None, 20.0, None]"
      ]
     },
     "execution_count": 32,
     "metadata": {},
     "output_type": "execute_result"
    }
   ],
   "source": [
    "test_data = [\n",
    "    [1, 2, 3, 4, 5],  # Коректні дані\n",
    "    [1, \"2\", 3],      # Некоректні дані\n",
    "    [10, 20, 30],     # Коректні дані\n",
    "    [-1.1, \"ф\", 4]    # Некоректні дані\n",
    "]\n",
    "\n",
    "results = [calculate_average(data) for data in test_data]\n",
    "results"
   ]
  },
  {
   "cell_type": "code",
   "execution_count": null,
   "id": "e0302c89-fef3-425d-947f-ea0dfab32c5e",
   "metadata": {},
   "outputs": [],
   "source": []
  }
 ],
 "metadata": {
  "colab": {
   "provenance": []
  },
  "kernelspec": {
   "display_name": "Python [conda env:base] *",
   "language": "python",
   "name": "conda-base-py"
  },
  "language_info": {
   "codemirror_mode": {
    "name": "ipython",
    "version": 3
   },
   "file_extension": ".py",
   "mimetype": "text/x-python",
   "name": "python",
   "nbconvert_exporter": "python",
   "pygments_lexer": "ipython3",
   "version": "3.12.7"
  },
  "toc": {
   "base_numbering": 1,
   "nav_menu": {},
   "number_sections": true,
   "sideBar": true,
   "skip_h1_title": false,
   "title_cell": "Table of Contents",
   "title_sidebar": "Contents",
   "toc_cell": false,
   "toc_position": {},
   "toc_section_display": true,
   "toc_window_display": false
  }
 },
 "nbformat": 4,
 "nbformat_minor": 5
}
