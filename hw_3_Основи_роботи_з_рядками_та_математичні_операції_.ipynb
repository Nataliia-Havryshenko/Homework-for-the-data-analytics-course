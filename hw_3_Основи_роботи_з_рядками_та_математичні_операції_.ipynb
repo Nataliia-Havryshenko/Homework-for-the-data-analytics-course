{
 "cells": [
  {
   "cell_type": "markdown",
   "metadata": {
    "id": "9ngpqNFm8w1a"
   },
   "source": [
    "# Домашнє завдання до теми \"Основи роботи з рядками та математичні операції\""
   ]
  },
  {
   "cell_type": "markdown",
   "metadata": {
    "id": "DEkQSeSyTum-"
   },
   "source": [
    "1. Створіть змінні `a`, `b`, `c` та `d`, задайте їм значення відповідно 101, 210, 111, 402, та обчисліть з допомогою Python наступний вираз:  $$ \\frac{(a+b) * c}{d} $$\n",
    "\n",
    "**Важливо**: тут ми маємо обчислити значення саме з використанням змінних, а не просто чисел, як би ми робили у калькуряторі. Змінні потрібні аби за бажання ми могли змінити їх значення та не переписувати код обчислення виразу, бо він буде працювати для різних значень змінних."
   ]
  },
  {
   "cell_type": "code",
   "execution_count": 26,
   "metadata": {
    "execution": {
     "iopub.execute_input": "2025-06-14T14:47:15.707992Z",
     "iopub.status.busy": "2025-06-14T14:47:15.706994Z",
     "iopub.status.idle": "2025-06-14T14:47:15.712898Z",
     "shell.execute_reply": "2025-06-14T14:47:15.711877Z",
     "shell.execute_reply.started": "2025-06-14T14:47:15.707992Z"
    },
    "id": "u1ICQq5L3eKH"
   },
   "outputs": [],
   "source": [
    "a = 101\n",
    "b = 210\n",
    "c = 111\n",
    "d = 402"
   ]
  },
  {
   "cell_type": "code",
   "execution_count": 27,
   "metadata": {
    "execution": {
     "iopub.execute_input": "2025-06-14T14:47:16.804679Z",
     "iopub.status.busy": "2025-06-14T14:47:16.803679Z",
     "iopub.status.idle": "2025-06-14T14:47:16.809599Z",
     "shell.execute_reply": "2025-06-14T14:47:16.808589Z",
     "shell.execute_reply.started": "2025-06-14T14:47:16.803679Z"
    }
   },
   "outputs": [
    {
     "name": "stdout",
     "output_type": "stream",
     "text": [
      "85.8731343283582\n"
     ]
    }
   ],
   "source": [
    "result = (a + b) * c / d\n",
    "print(result)"
   ]
  },
  {
   "cell_type": "markdown",
   "metadata": {
    "id": "FnBVPt7G3bcR"
   },
   "source": [
    "Очікувана відповідь: 85.8731343283582"
   ]
  },
  {
   "cell_type": "markdown",
   "metadata": {
    "id": "HI3eEYZRT4Cn"
   },
   "source": [
    "2. Якою буде остача від ділення числа 11283 на 89? Обчисліть з допомогою Python."
   ]
  },
  {
   "cell_type": "code",
   "execution_count": 31,
   "metadata": {
    "execution": {
     "iopub.execute_input": "2025-06-14T14:51:15.209249Z",
     "iopub.status.busy": "2025-06-14T14:51:15.208145Z",
     "iopub.status.idle": "2025-06-14T14:51:15.214572Z",
     "shell.execute_reply": "2025-06-14T14:51:15.213551Z",
     "shell.execute_reply.started": "2025-06-14T14:51:15.209249Z"
    },
    "id": "ejZc3ng_TpgY"
   },
   "outputs": [
    {
     "name": "stdout",
     "output_type": "stream",
     "text": [
      "69\n"
     ]
    }
   ],
   "source": [
    "a = 11283\n",
    "b = 89\n",
    "result = a % b\n",
    "print(result)"
   ]
  },
  {
   "cell_type": "markdown",
   "metadata": {
    "id": "RO02CqdqT9oG"
   },
   "source": [
    "3. Скільки цілих разів поміститься число 89 в 11283? (Або що те саме: який буде результат цілочисельного ділення 11283 на 89?)"
   ]
  },
  {
   "cell_type": "code",
   "execution_count": 32,
   "metadata": {
    "execution": {
     "iopub.execute_input": "2025-06-14T14:55:37.789778Z",
     "iopub.status.busy": "2025-06-14T14:55:37.788778Z",
     "iopub.status.idle": "2025-06-14T14:55:37.795500Z",
     "shell.execute_reply": "2025-06-14T14:55:37.794460Z",
     "shell.execute_reply.started": "2025-06-14T14:55:37.789778Z"
    },
    "id": "KEUb9lO5T_PI"
   },
   "outputs": [
    {
     "name": "stdout",
     "output_type": "stream",
     "text": [
      "126\n"
     ]
    }
   ],
   "source": [
    "a = 11283\n",
    "b = 89\n",
    "result = a // b\n",
    "print(result)"
   ]
  },
  {
   "cell_type": "markdown",
   "metadata": {
    "id": "5fnIPumiT_rt"
   },
   "source": [
    "4. Запишіть у змінну `name` ваше імʼя."
   ]
  },
  {
   "cell_type": "code",
   "execution_count": 33,
   "metadata": {
    "execution": {
     "iopub.execute_input": "2025-06-14T14:56:16.804625Z",
     "iopub.status.busy": "2025-06-14T14:56:16.804625Z",
     "iopub.status.idle": "2025-06-14T14:56:16.809844Z",
     "shell.execute_reply": "2025-06-14T14:56:16.808825Z",
     "shell.execute_reply.started": "2025-06-14T14:56:16.804625Z"
    },
    "id": "xP7Mbq45UFlV"
   },
   "outputs": [],
   "source": [
    "name = 'Nataliia'"
   ]
  },
  {
   "cell_type": "markdown",
   "metadata": {
    "id": "fR9TqY79UNDL"
   },
   "source": [
    "5. Запишіть у змінну `surname` ваше прізвище."
   ]
  },
  {
   "cell_type": "code",
   "execution_count": 3,
   "metadata": {
    "execution": {
     "iopub.execute_input": "2025-06-14T14:29:11.107025Z",
     "iopub.status.busy": "2025-06-14T14:29:11.107025Z",
     "iopub.status.idle": "2025-06-14T14:29:11.111922Z",
     "shell.execute_reply": "2025-06-14T14:29:11.110906Z",
     "shell.execute_reply.started": "2025-06-14T14:29:11.107025Z"
    },
    "id": "0qHjyMyvUOM1"
   },
   "outputs": [],
   "source": [
    "surname = 'Havryshenko'"
   ]
  },
  {
   "cell_type": "markdown",
   "metadata": {
    "id": "zqKncQLwUOxh"
   },
   "source": [
    "6. Сконкатенуйте імʼя та прізвище в одну фразу через пробіл. Запишіть результат у нову змінну `name_surname` та виведіть результат на екран.  "
   ]
  },
  {
   "cell_type": "code",
   "execution_count": 9,
   "metadata": {
    "execution": {
     "iopub.execute_input": "2025-06-14T14:32:04.743671Z",
     "iopub.status.busy": "2025-06-14T14:32:04.742664Z",
     "iopub.status.idle": "2025-06-14T14:32:04.748247Z",
     "shell.execute_reply": "2025-06-14T14:32:04.747946Z",
     "shell.execute_reply.started": "2025-06-14T14:32:04.743671Z"
    },
    "id": "8E-blvN-UTPg"
   },
   "outputs": [
    {
     "name": "stdout",
     "output_type": "stream",
     "text": [
      "Nataliia Havryshenko\n"
     ]
    }
   ],
   "source": [
    "name_surname = name + \" \" + surname\n",
    "print(name_surname)"
   ]
  },
  {
   "cell_type": "markdown",
   "metadata": {
    "id": "_Unl7EXlUgYn"
   },
   "source": [
    "Очікувана відповідь (тільки з вашими даними): 'Hanna Pylieva'"
   ]
  },
  {
   "cell_type": "markdown",
   "metadata": {
    "id": "z-3FI0IrUT0U"
   },
   "source": [
    "7. Зробіть усі літери змінної `name_surname` заглавними використовуючи метод рядків в Python:"
   ]
  },
  {
   "cell_type": "code",
   "execution_count": 17,
   "metadata": {
    "execution": {
     "iopub.execute_input": "2025-06-14T14:41:07.572309Z",
     "iopub.status.busy": "2025-06-14T14:41:07.572309Z",
     "iopub.status.idle": "2025-06-14T14:41:07.577808Z",
     "shell.execute_reply": "2025-06-14T14:41:07.577298Z",
     "shell.execute_reply.started": "2025-06-14T14:41:07.572309Z"
    },
    "id": "9ahIwyT5UblY"
   },
   "outputs": [
    {
     "name": "stdout",
     "output_type": "stream",
     "text": [
      "NATALIIA HAVRYSHENKO\n"
     ]
    }
   ],
   "source": [
    "print(name_surname.upper())"
   ]
  },
  {
   "cell_type": "markdown",
   "metadata": {
    "id": "6PDcqfmdUcLo"
   },
   "source": [
    "Очікувана відповідь (тільки з вашими даними): 'HANNA PYLIEVA'"
   ]
  },
  {
   "cell_type": "markdown",
   "metadata": {
    "id": "qNl8KxeXUtnL"
   },
   "source": [
    "8. Виведіть третю літеру вашого `name_surname`. Тут уважно, треба саме третя літера. Згадайте, з якого значення починається індексування значень в Python."
   ]
  },
  {
   "cell_type": "code",
   "execution_count": 18,
   "metadata": {
    "execution": {
     "iopub.execute_input": "2025-06-14T14:43:07.745818Z",
     "iopub.status.busy": "2025-06-14T14:43:07.744824Z",
     "iopub.status.idle": "2025-06-14T14:43:07.752280Z",
     "shell.execute_reply": "2025-06-14T14:43:07.751257Z",
     "shell.execute_reply.started": "2025-06-14T14:43:07.745818Z"
    },
    "id": "Tp7stqAhUvJz"
   },
   "outputs": [
    {
     "data": {
      "text/plain": [
       "'t'"
      ]
     },
     "execution_count": 18,
     "metadata": {},
     "output_type": "execute_result"
    }
   ],
   "source": [
    "name_surname [2]"
   ]
  },
  {
   "cell_type": "markdown",
   "metadata": {
    "id": "GYWHqb3UUvqk"
   },
   "source": [
    "Очікувана відповідь (тільки з вашими даними): 'n'"
   ]
  },
  {
   "cell_type": "markdown",
   "metadata": {
    "id": "1f3cc1a7",
    "pycharm": {
     "name": "#%% md\n"
    }
   },
   "source": [
    "9. Виведіть першу та останню літеру вашого прізвища."
   ]
  },
  {
   "cell_type": "code",
   "execution_count": 49,
   "metadata": {
    "execution": {
     "iopub.execute_input": "2025-06-14T15:12:54.493791Z",
     "iopub.status.busy": "2025-06-14T15:12:54.493791Z",
     "iopub.status.idle": "2025-06-14T15:12:54.499935Z",
     "shell.execute_reply": "2025-06-14T15:12:54.498912Z",
     "shell.execute_reply.started": "2025-06-14T15:12:54.493791Z"
    },
    "id": "s1ZgN3xuUyB8"
   },
   "outputs": [
    {
     "name": "stdout",
     "output_type": "stream",
     "text": [
      "H o\n"
     ]
    }
   ],
   "source": [
    "first_letter = surname[0]\n",
    "last_letter = surname[-1]\n",
    "print(first_letter, last_letter)\n"
   ]
  },
  {
   "cell_type": "markdown",
   "metadata": {
    "id": "KjlFjjhHVAt2"
   },
   "source": [
    "Очікувана відповідь (тільки з вашими даними): ('P', 'a')"
   ]
  },
  {
   "cell_type": "markdown",
   "metadata": {
    "id": "UYLoho3DVMt2"
   },
   "source": [
    "10. Виведіть довжину вашого прізвища."
   ]
  },
  {
   "cell_type": "code",
   "execution_count": 50,
   "metadata": {
    "execution": {
     "iopub.execute_input": "2025-06-14T15:13:44.607348Z",
     "iopub.status.busy": "2025-06-14T15:13:44.606788Z",
     "iopub.status.idle": "2025-06-14T15:13:44.613594Z",
     "shell.execute_reply": "2025-06-14T15:13:44.612580Z",
     "shell.execute_reply.started": "2025-06-14T15:13:44.607348Z"
    },
    "id": "0TPJBh0LVA8q"
   },
   "outputs": [
    {
     "name": "stdout",
     "output_type": "stream",
     "text": [
      "11\n"
     ]
    }
   ],
   "source": [
    "print(len(surname))"
   ]
  },
  {
   "cell_type": "markdown",
   "metadata": {
    "id": "9FaxqvVgVRYW"
   },
   "source": [
    "Очікувана відповідь (тільки з вашими даними): 7\n"
   ]
  },
  {
   "cell_type": "markdown",
   "metadata": {
    "id": "JN2wxSlGVVAj"
   },
   "source": [
    "11. Виведіть кількість літер `a` у столиці Мадагаскару `Antananarivo`. Важливо врахувати всі літери, як великі, так і маленькі."
   ]
  },
  {
   "cell_type": "code",
   "execution_count": 53,
   "metadata": {
    "execution": {
     "iopub.execute_input": "2025-06-14T15:17:34.462950Z",
     "iopub.status.busy": "2025-06-14T15:17:34.461953Z",
     "iopub.status.idle": "2025-06-14T15:17:34.467172Z",
     "shell.execute_reply": "2025-06-14T15:17:34.467172Z",
     "shell.execute_reply.started": "2025-06-14T15:17:34.462950Z"
    },
    "id": "LCeHHz9bVUgL"
   },
   "outputs": [
    {
     "name": "stdout",
     "output_type": "stream",
     "text": [
      "4\n"
     ]
    }
   ],
   "source": [
    "city = 'Antananarivo'\n",
    "count_a = city.lower().count('a')\n",
    "print(count_a)"
   ]
  },
  {
   "cell_type": "markdown",
   "metadata": {
    "id": "Ux4SQiuSVo92"
   },
   "source": [
    "Очікувана відповідь: 4"
   ]
  },
  {
   "cell_type": "markdown",
   "metadata": {
    "id": "mwEs0xnmVtes"
   },
   "source": [
    "12. Створіть рядок `my_string` зі значенням: \"The quick brown fox jumps over the lazy dog!!!\".   \n",
    "Перевірте, чи починається рядок `my_string` з \"The\" і чи закінчується він \"dog!\". Виведіть результати на екран."
   ]
  },
  {
   "cell_type": "code",
   "execution_count": 61,
   "metadata": {
    "execution": {
     "iopub.execute_input": "2025-06-14T16:32:33.029825Z",
     "iopub.status.busy": "2025-06-14T16:32:33.029825Z",
     "iopub.status.idle": "2025-06-14T16:32:33.042301Z",
     "shell.execute_reply": "2025-06-14T16:32:33.040767Z",
     "shell.execute_reply.started": "2025-06-14T16:32:33.029825Z"
    },
    "id": "VlXDNpXcVs59"
   },
   "outputs": [
    {
     "name": "stdout",
     "output_type": "stream",
     "text": [
      "True\n",
      "False\n"
     ]
    }
   ],
   "source": [
    "my_string = \"The quick brown fox jumps over the lazy dog!!!\"\n",
    "starts_with_The = my_string.startswith(\"The\")\n",
    "ends_with_dog = my_string.endswith(\"dog!\")\n",
    "print( starts_with_The)\n",
    "print( ends_with_dog)"
   ]
  },
  {
   "cell_type": "markdown",
   "metadata": {
    "id": "Yc-UwtqvV_h0"
   },
   "source": [
    "13. Розділіть рядок `my_string` на список окремих слів, а потім з'єднайте всі слова через нижнє підкреслювання. Виведіть результат на екран."
   ]
  },
  {
   "cell_type": "code",
   "execution_count": 62,
   "metadata": {
    "execution": {
     "iopub.execute_input": "2025-06-14T16:32:46.386018Z",
     "iopub.status.busy": "2025-06-14T16:32:46.386018Z",
     "iopub.status.idle": "2025-06-14T16:32:46.395671Z",
     "shell.execute_reply": "2025-06-14T16:32:46.392672Z",
     "shell.execute_reply.started": "2025-06-14T16:32:46.386018Z"
    },
    "id": "m5I48Ii-WDSK"
   },
   "outputs": [
    {
     "name": "stdout",
     "output_type": "stream",
     "text": [
      "The_quick_brown_fox_jumps_over_the_lazy_dog!!!\n"
     ]
    }
   ],
   "source": [
    "words = my_string.split()\n",
    "result = \"_\".join(words)\n",
    "print(result)"
   ]
  },
  {
   "cell_type": "markdown",
   "metadata": {
    "id": "UqvD1_jIXRhx"
   },
   "source": [
    "Очікуваний результат: `The_quick_brown_fox_jumps_over_the_lazy_dog!!!`"
   ]
  },
  {
   "cell_type": "code",
   "execution_count": null,
   "metadata": {},
   "outputs": [],
   "source": []
  }
 ],
 "metadata": {
  "colab": {
   "provenance": []
  },
  "kernelspec": {
   "display_name": "Python [conda env:base] *",
   "language": "python",
   "name": "conda-base-py"
  },
  "language_info": {
   "codemirror_mode": {
    "name": "ipython",
    "version": 3
   },
   "file_extension": ".py",
   "mimetype": "text/x-python",
   "name": "python",
   "nbconvert_exporter": "python",
   "pygments_lexer": "ipython3",
   "version": "3.12.7"
  }
 },
 "nbformat": 4,
 "nbformat_minor": 4
}
