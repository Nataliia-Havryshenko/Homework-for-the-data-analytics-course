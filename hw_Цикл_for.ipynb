{
 "cells": [
  {
   "cell_type": "markdown",
   "metadata": {
    "editable": true,
    "id": "W8lqt6zd9axA",
    "slideshow": {
     "slide_type": ""
    },
    "tags": []
   },
   "source": [
    "#Домашнє завдання до теми \"Цикл for\""
   ]
  },
  {
   "cell_type": "markdown",
   "metadata": {
    "id": "iXzoNTu604kH"
   },
   "source": [
    "0. Розігрів. Напишіть цикл, який виводить на екран числа від 1 до 10 включно."
   ]
  },
  {
   "cell_type": "code",
   "execution_count": 1,
   "metadata": {
    "execution": {
     "iopub.execute_input": "2025-06-15T17:11:52.745804Z",
     "iopub.status.busy": "2025-06-15T17:11:52.745804Z",
     "iopub.status.idle": "2025-06-15T17:11:52.760258Z",
     "shell.execute_reply": "2025-06-15T17:11:52.758669Z",
     "shell.execute_reply.started": "2025-06-15T17:11:52.745804Z"
    },
    "id": "zpwypSSp0MVm"
   },
   "outputs": [
    {
     "name": "stdout",
     "output_type": "stream",
     "text": [
      "1\n",
      "2\n",
      "3\n",
      "4\n",
      "5\n",
      "6\n",
      "7\n",
      "8\n",
      "9\n",
      "10\n"
     ]
    }
   ],
   "source": [
    "for i in range(1, 11):\n",
    "    print(i)"
   ]
  },
  {
   "cell_type": "markdown",
   "metadata": {
    "id": "JmWR8uze094H"
   },
   "source": [
    "**Початок покладено!**"
   ]
  },
  {
   "cell_type": "markdown",
   "metadata": {
    "id": "OJX3yG-Blplu"
   },
   "source": [
    "1. Задайте список `numbers`, який містить значення від 0 до 9 включно. Використовуючи цикл `for`, обчисліть суму елементів в створеному списку та виведіть фінальну суму на екран."
   ]
  },
  {
   "cell_type": "code",
   "execution_count": 2,
   "metadata": {
    "execution": {
     "iopub.execute_input": "2025-06-15T17:12:46.765637Z",
     "iopub.status.busy": "2025-06-15T17:12:46.763607Z",
     "iopub.status.idle": "2025-06-15T17:12:46.775898Z",
     "shell.execute_reply": "2025-06-15T17:12:46.773280Z",
     "shell.execute_reply.started": "2025-06-15T17:12:46.765637Z"
    },
    "id": "sSX30A5yuvUQ"
   },
   "outputs": [
    {
     "name": "stdout",
     "output_type": "stream",
     "text": [
      "45\n"
     ]
    }
   ],
   "source": [
    "numbers = list(range(10))\n",
    "total = 0\n",
    "for num in numbers:\n",
    "    total += num\n",
    "print(total)"
   ]
  },
  {
   "cell_type": "markdown",
   "metadata": {
    "id": "6Tb2Kx_jmD5b"
   },
   "source": [
    "2. Використовуючи цикл  `for` виведіть для кожного елементу списку `numbers`,який ми створили в завданні 1, чи цей елемент дорівнює 5. Тобто після виконання циклу на екрані має бути 10 bool значень."
   ]
  },
  {
   "cell_type": "code",
   "execution_count": 10,
   "metadata": {
    "execution": {
     "iopub.execute_input": "2025-06-15T17:18:10.713699Z",
     "iopub.status.busy": "2025-06-15T17:18:10.713699Z",
     "iopub.status.idle": "2025-06-15T17:18:10.726169Z",
     "shell.execute_reply": "2025-06-15T17:18:10.724154Z",
     "shell.execute_reply.started": "2025-06-15T17:18:10.713699Z"
    },
    "id": "Ls8ZW8DWuwHC"
   },
   "outputs": [
    {
     "name": "stdout",
     "output_type": "stream",
     "text": [
      "False\n",
      "False\n",
      "False\n",
      "False\n",
      "False\n",
      "True\n",
      "False\n",
      "False\n",
      "False\n",
      "False\n"
     ]
    }
   ],
   "source": [
    "numbers = list(range(10))\n",
    "for num in numbers:\n",
    "    print(num == 5)"
   ]
  },
  {
   "cell_type": "markdown",
   "metadata": {
    "id": "ddFE1naOmp7Q"
   },
   "source": [
    "3. Використовуючи цикл  `for` для кожного елементу списку `numbers`, який ми створили в завданні 1, виявіть, чи цей елемент ділиться на 2 без остачі, та запишіть результат у новий список `numbers_divisible_by_2`.\n",
    "\n",
    "Увага! Виконання завдання відрізняється від попереднього тим, що тепер ми результат обчислення на кожній ітерації записуємо у новий список. До того ж ми тут виконуємо іншу математичну операцію.\n",
    "\n",
    "Виведіть фільнальний список `numbers_divisible_by_2` на екран."
   ]
  },
  {
   "cell_type": "code",
   "execution_count": 17,
   "metadata": {
    "execution": {
     "iopub.execute_input": "2025-06-15T17:24:23.343844Z",
     "iopub.status.busy": "2025-06-15T17:24:23.343844Z",
     "iopub.status.idle": "2025-06-15T17:24:23.360721Z",
     "shell.execute_reply": "2025-06-15T17:24:23.358219Z",
     "shell.execute_reply.started": "2025-06-15T17:24:23.343844Z"
    },
    "id": "S2Pk_W12uyDo"
   },
   "outputs": [
    {
     "name": "stdout",
     "output_type": "stream",
     "text": [
      "[True, False, True, False, True, False, True, False, True, False]\n"
     ]
    }
   ],
   "source": [
    "numbers = list(range(10))\n",
    "numbers_divisible_by_2 = []\n",
    "for num in numbers:\n",
    "    numbers_divisible_by_2.append(num % 2 == 0)\n",
    "print(numbers_divisible_by_2)"
   ]
  },
  {
   "cell_type": "markdown",
   "metadata": {
    "id": "cwvpWeVGnUGB"
   },
   "source": [
    "Очікуваний результат: `[True, False, True, False, True, False, True, False, True, False]`"
   ]
  },
  {
   "cell_type": "markdown",
   "metadata": {
    "id": "0rgeGpJ3utVN"
   },
   "source": [
    "4. Задано два списки в клітинці нижче - `a` і `b`. Створіть цикл, результатом якого буде список `result`, що містить елементи типу bool і який фактично каже,\n",
    "\"чи на цьому індексі елементи наших двох списків співпадають\". Приклад:\n",
    "```\n",
    "a = [1, 2, 3, 6]\n",
    "b = [1, 7, 3, 6]\n",
    "# ми виконали поелементне порівняння двох списків і отримали новий список result\n",
    "# result містить наступний результат -> [True, False, True, True]\n",
    "```\n",
    "В кінці виведіть вміст result на екран.\n",
    "\n",
    "<details>\n",
    "<summary>Підказка</summary>\n",
    "\n",
    "Аби порівняти елементи в циклі - треба створити цикл по індексам елементів. Зважаючи, що наші списки - одної довжини, цей підхід дозволить нам отримати чітко те, що треба.\n",
    "\n",
    "**Просунутий варіант.** Альтернативно можна створити цикл, який на кожній ітерації має доступ до двох елементів - по одному з кожного списка, для цього треба скористатись функцією `zip` - приклад [тут](https://realpython.com/python-zip-function/#traversing-lists-in-parallel)\n",
    "</details>\n"
   ]
  },
  {
   "cell_type": "code",
   "execution_count": 18,
   "metadata": {
    "execution": {
     "iopub.execute_input": "2025-06-15T17:28:27.382980Z",
     "iopub.status.busy": "2025-06-15T17:28:27.382980Z",
     "iopub.status.idle": "2025-06-15T17:28:27.394932Z",
     "shell.execute_reply": "2025-06-15T17:28:27.393088Z",
     "shell.execute_reply.started": "2025-06-15T17:28:27.382980Z"
    },
    "id": "IIYG41pWdJiG"
   },
   "outputs": [],
   "source": [
    "a = [64, 93, 60, 95, 66, 9, 15, 55, 77, 28, 74, 100, 13, 1, 85, 48, 66, 65, 59, 32]\n",
    "b = [64, 93, 60, 95, 66, 9, 15, 56, 77, 28, 74, 100, 13, 1, 85, 48, 67, 65, 59, 32]"
   ]
  },
  {
   "cell_type": "code",
   "execution_count": 19,
   "metadata": {
    "execution": {
     "iopub.execute_input": "2025-06-15T17:29:10.351643Z",
     "iopub.status.busy": "2025-06-15T17:29:10.351643Z",
     "iopub.status.idle": "2025-06-15T17:29:10.363693Z",
     "shell.execute_reply": "2025-06-15T17:29:10.362660Z",
     "shell.execute_reply.started": "2025-06-15T17:29:10.351643Z"
    },
    "id": "XgZwTwr4u2lA"
   },
   "outputs": [
    {
     "name": "stdout",
     "output_type": "stream",
     "text": [
      "[True, True, True, True, True, True, True, False, True, True, True, True, True, True, True, True, False, True, True, True]\n"
     ]
    }
   ],
   "source": [
    "result = []\n",
    "for elem_a, elem_b in zip(a, b):\n",
    "    result.append(elem_a == elem_b)\n",
    "print(result)"
   ]
  },
  {
   "cell_type": "markdown",
   "metadata": {
    "id": "0Z2cObcTutVO"
   },
   "source": [
    "5. Нижче задано список `numbers`. Виконайте клітинку з його заданням.\n",
    "\n",
    "  Давайте знайдемо середнє арифметичне значення елементів списку `numbers` округлене до 2 цифр після коми та запишемо його у змінну `numbers_mean`. Для цього виконаємо два простих кроки.\n",
    "\n",
    "  1) Знайдіть суму всіх елементів списку `numbers` та запишіть її у змінну `numbers_sum`. Можна з використанням циклу, а можна і без.\n",
    "\n",
    "  2) Обчисліть `numbers_mean` шляхом ділення суми елементів у списку на їх кількість. Кількість елементів в списку - це його довжина.\n",
    "\n",
    "  Виведіть `numbers_mean`, округлений до 2 цифр після коми, на екран.\n",
    "\n",
    "  **Підказка**: округлити число можна з використанням вбудованої функції Python [round()](https://docs.python.org/3/library/functions.html#round)."
   ]
  },
  {
   "cell_type": "code",
   "execution_count": 20,
   "metadata": {
    "execution": {
     "iopub.execute_input": "2025-06-15T17:30:41.744270Z",
     "iopub.status.busy": "2025-06-15T17:30:41.744270Z",
     "iopub.status.idle": "2025-06-15T17:30:41.754720Z",
     "shell.execute_reply": "2025-06-15T17:30:41.753123Z",
     "shell.execute_reply.started": "2025-06-15T17:30:41.744270Z"
    },
    "id": "TwuOmLpeutVO"
   },
   "outputs": [],
   "source": [
    "numbers = [42, 51, 29, 2, 13, 44, 80, 66, 16]"
   ]
  },
  {
   "cell_type": "code",
   "execution_count": 28,
   "metadata": {
    "execution": {
     "iopub.execute_input": "2025-06-15T17:40:27.282852Z",
     "iopub.status.busy": "2025-06-15T17:40:27.282852Z",
     "iopub.status.idle": "2025-06-15T17:40:27.293900Z",
     "shell.execute_reply": "2025-06-15T17:40:27.292845Z",
     "shell.execute_reply.started": "2025-06-15T17:40:27.282852Z"
    },
    "id": "R-qDvKVcu6e1"
   },
   "outputs": [
    {
     "name": "stdout",
     "output_type": "stream",
     "text": [
      "38.11\n"
     ]
    }
   ],
   "source": [
    "numbers_sum = sum(numbers)\n",
    "numbers_mean = round(numbers_sum / len(numbers),2)\n",
    "print(numbers_mean)"
   ]
  },
  {
   "cell_type": "markdown",
   "metadata": {
    "id": "pSdssHuuutVQ"
   },
   "source": [
    "Очікуваний результат: `38.11`"
   ]
  },
  {
   "cell_type": "markdown",
   "metadata": {
    "id": "JsevSvVtutVQ"
   },
   "source": [
    "6. Задано список `a` і елемент `element`. Перевірте програмно чи є в списку `a` елемент `element` з допомогою інструкцій `if ... else`. Виведіть на екран відповідь \"Так, є\", якщо цей елемент в списку присутній, або \"Ні, нема\", якщо його там немає.\n",
    "Важливо це зробити без використання імпортів будь-яких бібліотек.\n",
    "\n",
    "  Тут цикла немає :) Але це завдання - підготовче до наступного."
   ]
  },
  {
   "cell_type": "code",
   "execution_count": 29,
   "metadata": {
    "execution": {
     "iopub.execute_input": "2025-06-15T17:46:08.003067Z",
     "iopub.status.busy": "2025-06-15T17:46:08.003067Z",
     "iopub.status.idle": "2025-06-15T17:46:08.015474Z",
     "shell.execute_reply": "2025-06-15T17:46:08.015474Z",
     "shell.execute_reply.started": "2025-06-15T17:46:08.003067Z"
    },
    "id": "TqkTdlN_utVQ"
   },
   "outputs": [],
   "source": [
    "a = [64, 93, 60, 95, 66, 9, 15, 55, 77, 28, 74, 100, 13, 1, 85, 48, 66, 65, 59, 32]\n",
    "element = 33"
   ]
  },
  {
   "cell_type": "code",
   "execution_count": 36,
   "metadata": {
    "editable": true,
    "execution": {
     "iopub.execute_input": "2025-06-15T17:51:50.075156Z",
     "iopub.status.busy": "2025-06-15T17:51:50.075156Z",
     "iopub.status.idle": "2025-06-15T17:51:50.088445Z",
     "shell.execute_reply": "2025-06-15T17:51:50.086626Z",
     "shell.execute_reply.started": "2025-06-15T17:51:50.075156Z"
    },
    "id": "aL_76T8pu7fp",
    "slideshow": {
     "slide_type": ""
    },
    "tags": []
   },
   "outputs": [
    {
     "name": "stdout",
     "output_type": "stream",
     "text": [
      "Ні, немає\n"
     ]
    }
   ],
   "source": [
    "if a == 33:\n",
    "    print('Так, є')\n",
    "else: \n",
    "    print('Ні, немає')"
   ]
  },
  {
   "cell_type": "markdown",
   "metadata": {
    "editable": true,
    "id": "QKjmv4j0utVR",
    "slideshow": {
     "slide_type": ""
    },
    "tags": []
   },
   "source": [
    "7. Тепер у нас не один елемент, а кілька. Вони наведені в змінній `elements`. За допомогою циклу і інструкцій `if ... else` для кожного елемента списку `elements` перевірте, чи він є в списку `a`.\n",
    "Виведіть на екран відповідь \"Так, є елемент <вставити значення елемента>\", якщо елемент в списку присутній, або \"Ні, нема елемента <вставити значення елемента>\", якщо його там немає."
   ]
  },
  {
   "cell_type": "code",
   "execution_count": 37,
   "metadata": {
    "execution": {
     "iopub.execute_input": "2025-06-15T17:56:49.353701Z",
     "iopub.status.busy": "2025-06-15T17:56:49.353701Z",
     "iopub.status.idle": "2025-06-15T17:56:49.365350Z",
     "shell.execute_reply": "2025-06-15T17:56:49.363768Z",
     "shell.execute_reply.started": "2025-06-15T17:56:49.353701Z"
    },
    "id": "TF3nT5TMutVR"
   },
   "outputs": [],
   "source": [
    "elements = [44, 66, 77, 100]"
   ]
  },
  {
   "cell_type": "code",
   "execution_count": 39,
   "metadata": {
    "execution": {
     "iopub.execute_input": "2025-06-15T18:01:44.621855Z",
     "iopub.status.busy": "2025-06-15T18:01:44.621855Z",
     "iopub.status.idle": "2025-06-15T18:01:44.631684Z",
     "shell.execute_reply": "2025-06-15T18:01:44.631684Z",
     "shell.execute_reply.started": "2025-06-15T18:01:44.621855Z"
    }
   },
   "outputs": [
    {
     "name": "stdout",
     "output_type": "stream",
     "text": [
      "Ні, нема елемента {elements}\n",
      "Так, є елемент {elements}\n",
      "Так, є елемент {elements}\n",
      "Так, є елемент {elements}\n"
     ]
    }
   ],
   "source": [
    "for element in elements:\n",
    "    if element in a:\n",
    "       print('Так, є елемент {elements}')\n",
    "    else:\n",
    "        print('Ні, нема елемента {elements}')"
   ]
  }
 ],
 "metadata": {
  "colab": {
   "provenance": []
  },
  "kernelspec": {
   "display_name": "Python [conda env:base] *",
   "language": "python",
   "name": "conda-base-py"
  },
  "language_info": {
   "codemirror_mode": {
    "name": "ipython",
    "version": 3
   },
   "file_extension": ".py",
   "mimetype": "text/x-python",
   "name": "python",
   "nbconvert_exporter": "python",
   "pygments_lexer": "ipython3",
   "version": "3.12.7"
  }
 },
 "nbformat": 4,
 "nbformat_minor": 4
}
